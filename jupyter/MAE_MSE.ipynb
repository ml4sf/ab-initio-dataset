{
 "cells": [
  {
   "cell_type": "code",
   "execution_count": null,
   "metadata": {},
   "outputs": [],
   "source": [
    "import pandas as pd\n",
    "import numpy as np\n",
    "import matplotlib.pyplot as plt"
   ]
  },
  {
   "cell_type": "code",
   "execution_count": null,
   "metadata": {},
   "outputs": [],
   "source": [
    "functionals = [\"blyp\",\n",
    "               \"PBE\",\n",
    "               \"LC-BLYP\",\n",
    "               \"LC-wPBE\",\n",
    "               \"bmk\",\n",
    "               \"m062x\",\n",
    "               \"m11\",\n",
    "               \"b3lyp\",\n",
    "               \"PBE0\",\n",
    "               \"cam-b3lyp\",\n",
    "               \"wB97XD\",\n",
    "                ]\n",
    "\n",
    "func_to_name = {\n",
    "    'blyp': \"BLYP\",\n",
    "    'bmk': \"BMK\",\n",
    "    'm11': \"M11\",\n",
    "    'm062x': \"M062X\",\n",
    "    'b3lyp': \"B3LYP\",\n",
    "    'PBE0': 'PBE0',\n",
    "    'cam-b3lyp': 'CAM-B3LYP',\n",
    "    'LC-wPBE': 'LC-wPBE',\n",
    "    'LC-BLYP':'LC-BLYP',\n",
    "    'wB97XD': 'wB97XD',\n",
    "    'PBE': 'PBE'\n",
    "}"
   ]
  },
  {
   "cell_type": "code",
   "execution_count": null,
   "metadata": {},
   "outputs": [],
   "source": [
    "dfS1 = pd.read_csv(\"../data/S1.csv\")\n",
    "dfT1 = pd.read_csv(\"../data/T1.csv\")\n",
    "dfT2 = pd.read_csv(\"../data/T2.csv\")\n",
    "\n",
    "dfFC = pd.DataFrame()\n",
    "dfSC = pd.DataFrame()\n",
    "\n",
    "dfFC[\"DRC\"] = dfS1[\"DRC\"]\n",
    "dfFC[\"S2\"] = dfS1[\"S2\"]\n",
    "\n",
    "dfSC[\"DRC\"] = dfS1[\"DRC\"]\n",
    "dfSC[\"S2\"] = dfS1[\"S2\"]\n",
    "\n",
    "\n",
    "for f in functionals:\n",
    "    dfFC['FC({})'.format(f)] = 2*dfT1[\"T1({})\".format(f)] - dfS1[\"S1({})\".format(f)]\n",
    "    dfFC['FC({}, TDA)'.format(f)] = 2*dfT1[\"T1({}, TDA)\".format(f)] - dfS1[\"S1({}, TDA)\".format(f)]\n",
    "    \n",
    "    dfSC['SC({})'.format(f)] = 2*dfT1[\"T1({})\".format(f)] - dfT2[\"T2({})\".format(f)]\n",
    "    dfSC['SC({}, TDA)'.format(f)] = 2*dfT1[\"T1({}, TDA)\".format(f)] - dfT2[\"T2({}, TDA)\".format(f)] \n",
    "    \n",
    "dfFC[\"FC(MC)\"] = 2*dfT1[\"T1(MC)\"] - dfS1[\"S1(MC)\"]\n",
    "dfSC['SC(MC)'.format(f)] = 2*dfT1[\"T1(MC)\"] - dfT2[\"T2(MC)\"]"
   ]
  },
  {
   "cell_type": "code",
   "execution_count": null,
   "metadata": {},
   "outputs": [],
   "source": [
    "def calc_mae_mse(df,state, tda = False):\n",
    "    if (tda): \n",
    "        print(\"{}, TDA\".format(state))\n",
    "    else:\n",
    "        print(state)\n",
    "    out_df = pd.DataFrame()\n",
    "    func, mae, mse = [], [], []\n",
    "    for f in functionals:\n",
    "        func.append(func_to_name[f])\n",
    "        lab = '{}({})'.format(state, f)\n",
    "        if (tda == True):\n",
    "            lab = '{}({}, TDA)'.format(state, f)\n",
    "        deltaE = df[\"{}(MC)\".format(state)] - df[lab]\n",
    "        mse.append(deltaE.mean())\n",
    "        mae.append(np.abs(deltaE.mean()))\n",
    "    \n",
    "    out_df[\"Functional\"] = func\n",
    "    out_df[\"MAE, eV\"] = mae\n",
    "    out_df[\"MSE, eV\"] = mse\n",
    "    return out_df\n",
    "        \n",
    "            "
   ]
  },
  {
   "cell_type": "code",
   "execution_count": null,
   "metadata": {},
   "outputs": [],
   "source": [
    "calc_mae_mse(dfS1,\"S1\")"
   ]
  },
  {
   "cell_type": "code",
   "execution_count": null,
   "metadata": {},
   "outputs": [],
   "source": [
    "calc_mae_mse(dfS1,\"S1\", tda=True)"
   ]
  },
  {
   "cell_type": "code",
   "execution_count": null,
   "metadata": {},
   "outputs": [],
   "source": [
    "calc_mae_mse(dfT1,\"T1\")"
   ]
  },
  {
   "cell_type": "code",
   "execution_count": null,
   "metadata": {},
   "outputs": [],
   "source": [
    "calc_mae_mse(dfT1,\"T1\", tda=True)"
   ]
  },
  {
   "cell_type": "code",
   "execution_count": null,
   "metadata": {},
   "outputs": [],
   "source": [
    "calc_mae_mse(dfT2,\"T2\")"
   ]
  },
  {
   "cell_type": "code",
   "execution_count": null,
   "metadata": {},
   "outputs": [],
   "source": [
    "calc_mae_mse(dfT2,\"T2\", tda=True)"
   ]
  },
  {
   "cell_type": "code",
   "execution_count": null,
   "metadata": {},
   "outputs": [],
   "source": [
    "calc_mae_mse(dfFC,\"FC\")"
   ]
  },
  {
   "cell_type": "code",
   "execution_count": null,
   "metadata": {},
   "outputs": [],
   "source": [
    "calc_mae_mse(dfFC,\"FC\", tda=True)"
   ]
  },
  {
   "cell_type": "code",
   "execution_count": null,
   "metadata": {},
   "outputs": [],
   "source": [
    "calc_mae_mse(dfSC,\"SC\")"
   ]
  },
  {
   "cell_type": "code",
   "execution_count": null,
   "metadata": {},
   "outputs": [],
   "source": [
    "calc_mae_mse(dfSC,\"SC\",tda=True)"
   ]
  },
  {
   "cell_type": "code",
   "execution_count": null,
   "metadata": {},
   "outputs": [],
   "source": [
    "s1mse = calc_mae_mse(dfS1,\"S1\")\n",
    "t1mse = calc_mae_mse(dfT1,\"T1\")\n",
    "t2mse = calc_mae_mse(dfT2,\"T2\")\n",
    "\n",
    "s1msetda = calc_mae_mse(dfS1,\"S1\", tda=True)\n",
    "t1msetda = calc_mae_mse(dfT1,\"T1\", tda=True)\n",
    "t2msetda = calc_mae_mse(dfT2,\"T2\", tda=True)\n",
    "\n",
    "fig = plt.figure(figsize=(20,10))\n",
    "fig.tight_layout(pad=5.0)\n",
    "X = np.arange(s1mse.shape[0])\n",
    "ax = fig.add_axes([0,0,1,1])\n",
    "\n",
    "c1 = 'c'\n",
    "c2 = 'm'\n",
    "c3 = 'orange'\n",
    "\n",
    "ax.tick_params(axis='both', labelsize=22)\n",
    "\n",
    "ax.bar(X - 0.25, s1mse[\"MAE, eV\"], color = c1, width = 0.25, label = \"S1\", edgecolor='black')\n",
    "ax.bar(X + 0.00, t1mse[\"MAE, eV\"], color = c2, width = 0.25, label = \"T1\", edgecolor='black')\n",
    "ax.bar(X + 0.25, t1mse[\"MAE, eV\"], color = c3, width = 0.25, label = \"T2\", edgecolor='black')\n",
    "\n",
    "ax.bar(X - 0.25, s1msetda[\"MAE, eV\"], color = 'none', width = 0.25, label = \"TDA\", hatch='o', edgecolor='black')\n",
    "ax.bar(X + 0.00, t1msetda[\"MAE, eV\"], color = 'none', width = 0.25, hatch='o', edgecolor='black')\n",
    "ax.bar(X + 0.25, t1msetda[\"MAE, eV\"], color = 'none', width = 0.25, hatch='o', edgecolor='black')\n",
    "\n",
    "#ax.bar(X - 0.25, s1msetda[\"MAE, eV\"], width = 0.25, label = \"S1\", hatch='x', edgecolor='black')\n",
    "\n",
    "ax.set_xticks(X)\n",
    "ax.set_xticklabels(list(s1mse[\"Functional\"]), rotation=45, fontweight='bold')\n",
    "\n",
    "ax.set_ylabel(\"MAE, eV\", fontsize=24)\n",
    "ax.axhline(0.2, -100, 100, linestyle='--',linewidth=3, color = 'red')\n",
    "ax.set_ylim(0,1.5)\n",
    "l = ax.legend(fontsize=24)\n",
    "plt.savefig(\"MAE.png\")\n",
    "plt.show()"
   ]
  },
  {
   "cell_type": "code",
   "execution_count": null,
   "metadata": {
    "scrolled": false
   },
   "outputs": [],
   "source": [
    "fig = plt.figure(figsize=(20,15))\n",
    "X = np.arange(s1mse.shape[0])\n",
    "ax = fig.add_axes([0,0,1,1])\n",
    "\n",
    "c1 = 'c'\n",
    "c2 = 'm'\n",
    "c3 = 'orange'\n",
    "\n",
    "ax.tick_params(axis='both', labelsize=22)\n",
    "\n",
    "ax.bar(X - 0.25, s1mse[\"MSE, eV\"], color = c1, width = 0.25, label = \"S1\", edgecolor='black')\n",
    "ax.bar(X + 0.00, t1mse[\"MSE, eV\"], color = c2, width = 0.25, label = \"T1\", edgecolor='black')\n",
    "ax.bar(X + 0.25, t1mse[\"MSE, eV\"], color = c3, width = 0.25, label = \"T2\", edgecolor='black')\n",
    "\n",
    "ax.bar(X - 0.25, s1msetda[\"MSE, eV\"], color = 'none', width = 0.25, label = \"TDA\", hatch='o', edgecolor='black')\n",
    "ax.bar(X + 0.00, t1msetda[\"MSE, eV\"], color = 'none', width = 0.25, hatch='o', edgecolor='black')\n",
    "ax.bar(X + 0.25, t1msetda[\"MSE, eV\"], color = 'none', width = 0.25, hatch='o', edgecolor='black')\n",
    "\n",
    "#ax.bar(X - 0.25, s1msetda[\"MAE, eV\"], width = 0.25, label = \"S1\", hatch='x', edgecolor='black')\n",
    "\n",
    "ax.set_xticks(X)\n",
    "ax.set_xticklabels(list(s1mse[\"Functional\"]), rotation=45, fontweight='bold')\n",
    "\n",
    "ax.axhline(0.2, -100, 100, linestyle='--',linewidth=3, color = 'red')\n",
    "ax.axhline(-0.2, -100, 100, linestyle='--',linewidth=3, color = 'red')\n",
    "\n",
    "ax.axhline(0.0, -100, 100, linewidth= 0.5, color = 'black')\n",
    "ax.set_ylim(-1.5,1.5)\n",
    "\n",
    "ax.set_ylabel(\"MSE, eV\", fontsize=24)\n",
    "l = ax.legend(fontsize=24)\n",
    "plt.savefig(\"MSE.png\")\n",
    "plt.show()"
   ]
  },
  {
   "cell_type": "code",
   "execution_count": null,
   "metadata": {},
   "outputs": [],
   "source": [
    "FCmse = calc_mae_mse(dfFC,\"FC\")\n",
    "SCmse = calc_mae_mse(dfSC,\"SC\")\n",
    "\n",
    "FCmsetda = calc_mae_mse(dfFC,\"FC\", tda=True)\n",
    "SCmsetda = calc_mae_mse(dfSC,\"SC\", tda=True)\n",
    "\n",
    "fig = plt.figure(figsize=(20,10))\n",
    "fig.tight_layout(pad=5.0)\n",
    "X = np.arange(s1mse.shape[0])\n",
    "ax = fig.add_axes([0,0,1,1])\n",
    "\n",
    "c1 = 'c'\n",
    "c2 = 'm'\n",
    "\n",
    "ax.tick_params(axis='both', labelsize=22)\n",
    "\n",
    "ax.bar(X - 0.25/2, FCmse[\"MAE, eV\"], color = c1, width = 0.25, label = \"1$^{st}$ feasibility condition\", \n",
    "       edgecolor='black')\n",
    "ax.bar(X + 0.25/2, SCmse[\"MAE, eV\"], color = c2, width = 0.25, label = \"2$^{nd}$ feasibility condition\", \n",
    "       edgecolor='black')\n",
    "\n",
    "ax.bar(X - 0.25/2, FCmsetda[\"MAE, eV\"], color = 'none', width = 0.25, label = \"TDA\", hatch='o', edgecolor='black')\n",
    "ax.bar(X + 0.25/2, SCmsetda[\"MAE, eV\"], color = 'none', width = 0.25, hatch='o', edgecolor='black')\n",
    "#ax.bar(X + 0.25, t1msetda[\"MAE, eV\"], color = 'none', width = 0.25, hatch='o', edgecolor='black')\n",
    "\n",
    "#ax.bar(X - 0.25, s1msetda[\"MAE, eV\"], width = 0.25, label = \"S1\", hatch='x', edgecolor='black')\n",
    "\n",
    "ax.set_xticks(X)\n",
    "ax.set_xticklabels(list(s1mse[\"Functional\"]), rotation=45, fontweight='bold')\n",
    "\n",
    "ax.set_ylabel(\"MAE, eV\", fontsize=24)\n",
    "ax.axhline(0.2, -100, 100, linestyle='--',linewidth=3, color = 'red')\n",
    "ax.set_ylim(0,3.2)\n",
    "l = ax.legend(fontsize=24)\n",
    "#plt.savefig(\"MAE.png\")\n",
    "plt.show()"
   ]
  },
  {
   "cell_type": "code",
   "execution_count": null,
   "metadata": {},
   "outputs": [],
   "source": [
    "FCmse = calc_mae_mse(dfFC,\"FC\")\n",
    "SCmse = calc_mae_mse(dfSC,\"SC\")\n",
    "\n",
    "FCmsetda = calc_mae_mse(dfFC,\"FC\", tda=True)\n",
    "SCmsetda = calc_mae_mse(dfSC,\"SC\", tda=True)\n",
    "\n",
    "fig = plt.figure(figsize=(20,10))\n",
    "fig.tight_layout(pad=5.0)\n",
    "X = np.arange(s1mse.shape[0])\n",
    "ax = fig.add_axes([0,0,1,1])\n",
    "\n",
    "c1 = 'c'\n",
    "c2 = 'm'\n",
    "\n",
    "ax.tick_params(axis='both', labelsize=22)\n",
    "\n",
    "ax.bar(X - 0.25/2, FCmse[\"MSE, eV\"], color = c1, width = 0.25, label = \"1$^{st}$ feasibility condition\", \n",
    "       edgecolor='black')\n",
    "ax.bar(X + 0.25/2, SCmse[\"MSE, eV\"], color = c2, width = 0.25, label = \"2$^{nd}$ feasibility condition\", \n",
    "       edgecolor='black')\n",
    "\n",
    "ax.bar(X - 0.25/2, FCmsetda[\"MSE, eV\"], color = 'none', width = 0.25, label = \"TDA\", hatch='o', edgecolor='black')\n",
    "ax.bar(X + 0.25/2, SCmsetda[\"MSE, eV\"], color = 'none', width = 0.25, hatch='o', edgecolor='black')\n",
    "\n",
    "ax.set_xticks(X)\n",
    "ax.set_xticklabels(list(s1mse[\"Functional\"]), rotation=45, fontweight='bold')\n",
    "\n",
    "ax.set_ylabel(\"MSE, eV\", fontsize=24)\n",
    "ax.axhline(0.2, -100, 100, linestyle='--',linewidth=3, color = 'red')\n",
    "ax.axhline(-0.2, -100, 100, linestyle='--',linewidth=3, color = 'red')\n",
    "ax.axhline(0.0, -100, 100, linewidth= 0.5, color = 'black')\n",
    "ax.set_ylim(-.5,3.2)\n",
    "l = ax.legend(fontsize=24)\n",
    "plt.savefig(\"MAE_FC.png\")\n",
    "plt.show()"
   ]
  },
  {
   "cell_type": "code",
   "execution_count": null,
   "metadata": {},
   "outputs": [],
   "source": []
  },
  {
   "cell_type": "code",
   "execution_count": null,
   "metadata": {},
   "outputs": [],
   "source": []
  },
  {
   "cell_type": "code",
   "execution_count": null,
   "metadata": {},
   "outputs": [],
   "source": []
  },
  {
   "cell_type": "code",
   "execution_count": null,
   "metadata": {},
   "outputs": [],
   "source": []
  },
  {
   "cell_type": "code",
   "execution_count": null,
   "metadata": {},
   "outputs": [],
   "source": []
  },
  {
   "cell_type": "code",
   "execution_count": null,
   "metadata": {},
   "outputs": [],
   "source": []
  },
  {
   "cell_type": "code",
   "execution_count": null,
   "metadata": {},
   "outputs": [],
   "source": []
  }
 ],
 "metadata": {
  "kernelspec": {
   "display_name": "Python 3",
   "language": "python",
   "name": "python3"
  },
  "language_info": {
   "codemirror_mode": {
    "name": "ipython",
    "version": 3
   },
   "file_extension": ".py",
   "mimetype": "text/x-python",
   "name": "python",
   "nbconvert_exporter": "python",
   "pygments_lexer": "ipython3",
   "version": "3.7.4"
  }
 },
 "nbformat": 4,
 "nbformat_minor": 2
}
