{
 "cells": [
  {
   "cell_type": "code",
   "execution_count": null,
   "metadata": {},
   "outputs": [],
   "source": [
    "#%matplotlib notebook\n",
    "import pandas as pd\n",
    "import numpy as np\n",
    "import matplotlib.pyplot as plt\n",
    "from sklearn.linear_model import LinearRegression\n",
    "from sklearn.linear_model import Lasso\n",
    "from sklearn.model_selection import train_test_split\n",
    "from sklearn.model_selection import GridSearchCV, KFold\n",
    "from statsmodels.stats.outliers_influence import variance_inflation_factor\n",
    "from sklearn.linear_model import LinearRegression\n",
    "from sklearn.linear_model import Ridge\n",
    "from sklearn.preprocessing import StandardScaler\n",
    "from sklearn.tree import DecisionTreeRegressor\n",
    "from sklearn import tree\n",
    "from sklearn.ensemble import RandomForestRegressor\n",
    "from sklearn.ensemble import ExtraTreesRegressor\n",
    "from sklearn.ensemble import GradientBoostingRegressor\n",
    "from mlxtend.feature_selection import SequentialFeatureSelector\n",
    "from sklearn.kernel_ridge import KernelRidge\n",
    "import scipy.stats as stat\n",
    "from sklearn import svm\n",
    "from sklearn.model_selection import cross_val_score\n",
    "import copy\n",
    "import statsmodels.api as sm\n",
    "from scipy import stats"
   ]
  },
  {
   "cell_type": "code",
   "execution_count": null,
   "metadata": {},
   "outputs": [],
   "source": [
    "functionals = [\"blyp\",\n",
    "               \"PBE\",\n",
    "               \"LC-BLYP\",\n",
    "               \"LC-wPBE\",\n",
    "               \"bmk\",\n",
    "               \"m062x\",\n",
    "               \"m11\",\n",
    "               \"b3lyp\",\n",
    "               \"PBE0\",\n",
    "               \"cam-b3lyp\",\n",
    "               \"wB97XD\"\n",
    "               ]\n",
    "\n",
    "func_to_name = {\n",
    "    'blyp': \"BLYP\",\n",
    "    'bmk': \"BMK\",\n",
    "    'm11': \"M11\",\n",
    "    'm062x': \"M062X\",\n",
    "    'b3lyp': \"B3LYP\",\n",
    "    'PBE0': 'PBE0',\n",
    "    'cam-b3lyp': 'CAM-B3LYP',\n",
    "    'LC-wPBE': 'LC-wPBE',\n",
    "    'LC-BLYP':'LC-BLYP',\n",
    "    'wB97XD': 'wB97XD',\n",
    "    'PBE': 'PBE'\n",
    "}"
   ]
  },
  {
   "cell_type": "code",
   "execution_count": null,
   "metadata": {},
   "outputs": [],
   "source": [
    "dfS1 = pd.read_csv(\"../data/S1.csv\").sample(frac=1.0, random_state=420)\n",
    "dfT1 = pd.read_csv(\"../data/T1.csv\").sample(frac=1.0, random_state=420)\n",
    "dfT2 = pd.read_csv(\"../data/T2.csv\").sample(frac=1.0, random_state=420)\n",
    "\n",
    "dfFC = pd.DataFrame()\n",
    "dfSC = pd.DataFrame()\n",
    "\n",
    "dfFC[\"Mol\"] = dfS1[\"Mol\"]\n",
    "dfSC[\"Mol\"] = dfS1[\"Mol\"]\n",
    "\n",
    "dfFC[\"DRC\"] = dfS1[\"DRC\"]\n",
    "dfFC[\"S2\"] = dfS1[\"S2\"]\n",
    "\n",
    "dfSC[\"DRC\"] = dfS1[\"DRC\"]\n",
    "dfSC[\"S2\"] = dfS1[\"S2\"]\n",
    "\n",
    "\n",
    "for f in functionals:\n",
    "    dfFC['FC({})'.format(f)] = 2*dfT1[\"T1({})\".format(f)] - dfS1[\"S1({})\".format(f)]\n",
    "    dfFC['FC({}, TDA)'.format(f)] = 2*dfT1[\"T1({}, TDA)\".format(f)] - dfS1[\"S1({}, TDA)\".format(f)]\n",
    "    \n",
    "    dfSC['SC({})'.format(f)] = 2*dfT1[\"T1({})\".format(f)] - dfT2[\"T2({})\".format(f)]\n",
    "    dfSC['SC({}, TDA)'.format(f)] = 2*dfT1[\"T1({}, TDA)\".format(f)] - dfT2[\"T2({}, TDA)\".format(f)] \n",
    "    \n",
    "dfFC[\"FC(MC)\"] = (2*dfT1[\"T1(MC)\"]) - dfS1[\"S1(MC)\"]\n",
    "dfSC['SC(MC)'.format(f)] = 2*dfT1[\"T1(MC)\"] - dfT2[\"T2(MC)\"]"
   ]
  },
  {
   "cell_type": "code",
   "execution_count": null,
   "metadata": {},
   "outputs": [],
   "source": [
    "def plotAll(funcs, df, state, ycol, fname=None, vsMC = False, dev=None):\n",
    "    \n",
    "    df=copy.deepcopy(df)\n",
    "\n",
    "    fig, ax = plt.subplots(nrows = 4, ncols = 3,figsize=(20,25))\n",
    "    fig.delaxes(ax[-1,2])    \n",
    "    \n",
    "    fig.tight_layout(pad=5.0)\n",
    "    for i, func in enumerate(funcs):\n",
    "        if func == \"blyp\" or func == \"PBE\":\n",
    "            df = df.drop(list(df[df[\"Mol\"] == \"AB2B7\"].index))\n",
    "            df = df.drop(list(df[df[\"Mol\"] == \"AB1aB8a\"].index))\n",
    "            \n",
    "        xlab = \"{}({})\".format(state, func)\n",
    "        ylab = \"{}({})\".format(state, func+\", \"+ycol)\n",
    "        \n",
    "        if vsMC:\n",
    "            xlab = \"{}({})\".format(state, func+\", \"+ycol)\n",
    "            if ycol == \"\": xlab = \"{}({})\".format(state, func)\n",
    "            ylab = \"{}(MC)\".format(state)\n",
    "        \n",
    "        xlab_ax = \"{}({})\".format(state, func_to_name[func])\n",
    "        ylab_ax = \"{}({})\".format(state, func_to_name[func]+\", \"+ycol)\n",
    "        \n",
    "        if (vsMC):\n",
    "            xlab_ax = \"{}({})\".format(state, func_to_name[func]+\", \"+ycol)\n",
    "            if ycol == \"\": xlab_ax = \"{}({})\".format(state, func_to_name[func])\n",
    "            ylab_ax = ylab\n",
    "        \n",
    "        x = df[xlab].to_numpy()\n",
    "        y = df[ylab].to_numpy()\n",
    "        \n",
    "        _ax = ax[int(int(i)/3), i%3]\n",
    "        _ax.tick_params(axis='both', labelsize=16)\n",
    "        _ax.scatter(x,y)\n",
    "        _ax.set_title(func_to_name[func], fontsize=20, fontweight=\"bold\")\n",
    "        _ax.set_xlabel(xlab_ax+\", eV\", fontsize=16, fontweight=\"bold\")\n",
    "        _ax.set_ylabel(ylab_ax + \", eV\", fontsize=16, fontweight=\"bold\")\n",
    "        \n",
    "        modelGraph = LinearRegression()\n",
    "        modelGraph.fit(x.reshape(-1,1),y.reshape(-1,1))\n",
    "\n",
    "        sgn = '+'\n",
    "        if modelGraph.intercept_[0] < 0:\n",
    "            sgn='–'\n",
    "   \n",
    "        eqn = '{} = {:.2f}{} {} {:.2f}'.format(ylab_ax, modelGraph.coef_[0][0], xlab_ax, sgn, np.abs(modelGraph.intercept_)[0])\n",
    "        rsq = '$\\\\bf{R^2}$ = ' + '{:.3f}'.format(modelGraph.score(x.reshape((-1,1)), y.reshape((-1,1))))\n",
    "        _ax.text(0.5,.95,eqn,\n",
    "             horizontalalignment='center',\n",
    "             verticalalignment='center',\n",
    "             transform=_ax.transAxes, \n",
    "             fontsize=14, fontweight=\"bold\",color='b')\n",
    "    \n",
    "        _ax.text(0.5,.90,rsq,\n",
    "             horizontalalignment='center',\n",
    "             verticalalignment='center',\n",
    "             transform=_ax.transAxes, \n",
    "             fontsize=14, fontweight=\"bold\",color='b')\n",
    "    \n",
    "        minx, maxx = x.min(), x.max()\n",
    "        deltax = (maxx - minx)\n",
    "        xgr = np.arange(minx-.1*deltax, maxx+0.1*deltax, 0.1)\n",
    "        ygr = modelGraph.predict(xgr.reshape(-1,1))\n",
    "    \n",
    "        _ax.plot(xgr,ygr,color='r',linewidth=2)\n",
    "        if (dev is not None):\n",
    "            ygr1 = ygr + dev*np.ones(ygr.shape)\n",
    "            ygr2 = ygr - dev*np.ones(ygr.shape)\n",
    "            _ax.plot(xgr,ygr1,\"--\",color='r',linewidth=1)\n",
    "            _ax.plot(xgr,ygr2,\"--\", color='r',linewidth=1)\n",
    "        slope = modelGraph.coef_[0][0]\n",
    "        intercept = modelGraph.intercept_[0]\n",
    "        \n",
    "    if fname is not None:\n",
    "        plt.savefig(fname)\n",
    "    \n",
    "    \n",
    "    plt.show()\n",
    "            "
   ]
  },
  {
   "cell_type": "code",
   "execution_count": null,
   "metadata": {},
   "outputs": [],
   "source": [
    "def computeCorrTable(funcs, df, state, ycol, vsMC = False):\n",
    "    f, s, i, r = [], [], [], []\n",
    "    for func in funcs:\n",
    "        \n",
    "        if func == \"blyp\" or func == \"PBE\":\n",
    "            df = df.drop(list(df[df[\"Mol\"] == \"AB2B7\"].index))\n",
    "            df = df.drop(list(df[df[\"Mol\"] == \"AB1aB8a\"].index))\n",
    "        \n",
    "        xlab = \"{}({})\".format(state, func)\n",
    "        ylab = \"{}({})\".format(state, func+\", \"+ycol)\n",
    "        if vsMC:\n",
    "            xlab = \"{}({})\".format(state, func+\", \"+ycol)\n",
    "            if ycol == \"\": xlab = \"{}({})\".format(state, func)\n",
    "            ylab = \"{}(MC)\".format(state)\n",
    "        \n",
    "        x = df[xlab].to_numpy()\n",
    "        y = df[ylab].to_numpy()\n",
    "        \n",
    "        modelGraph = LinearRegression()\n",
    "        modelGraph.fit(x.reshape(-1,1),y.reshape(-1,1))\n",
    "    \n",
    "        f.append(func_to_name[func])\n",
    "        s.append(modelGraph.coef_[0][0])\n",
    "        i.append(modelGraph.intercept_[0])\n",
    "        r.append(modelGraph.score(x.reshape((-1,1)), y.reshape((-1,1))))\n",
    "    \n",
    "    outdata = pd.DataFrame()\n",
    "    outdata[\"Functional\"] = f\n",
    "    outdata[\"Slope\"] = s\n",
    "    outdata[\"Intercept, eV\"] = i\n",
    "    outdata[\"R2\"] = r\n",
    "    return outdata\n",
    "       "
   ]
  },
  {
   "cell_type": "markdown",
   "metadata": {},
   "source": [
    "# Excitation energies with TDA vs without TDA"
   ]
  },
  {
   "cell_type": "markdown",
   "metadata": {},
   "source": [
    "## S1"
   ]
  },
  {
   "cell_type": "code",
   "execution_count": null,
   "metadata": {},
   "outputs": [],
   "source": [
    "computeCorrTable(functionals, dfS1, \"S1\", \"TDA\")"
   ]
  },
  {
   "cell_type": "markdown",
   "metadata": {},
   "source": [
    "## T1"
   ]
  },
  {
   "cell_type": "code",
   "execution_count": null,
   "metadata": {},
   "outputs": [],
   "source": [
    "computeCorrTable(functionals, dfT1, \"T1\", \"TDA\")"
   ]
  },
  {
   "cell_type": "markdown",
   "metadata": {},
   "source": [
    "## T2"
   ]
  },
  {
   "cell_type": "code",
   "execution_count": null,
   "metadata": {},
   "outputs": [],
   "source": [
    "computeCorrTable(functionals, dfT2, \"T2\", \"TDA\")"
   ]
  },
  {
   "cell_type": "markdown",
   "metadata": {},
   "source": [
    "## Plot S1"
   ]
  },
  {
   "cell_type": "code",
   "execution_count": null,
   "metadata": {},
   "outputs": [],
   "source": [
    "plotAll(functionals, dfS1, \"S1\", \"TDA\", \"S1TDA.png\", dev=0.20)"
   ]
  },
  {
   "cell_type": "markdown",
   "metadata": {},
   "source": [
    "## Plot T1"
   ]
  },
  {
   "cell_type": "code",
   "execution_count": null,
   "metadata": {
    "scrolled": false
   },
   "outputs": [],
   "source": [
    "plotAll(functionals, dfT1, \"T1\", \"TDA\", \"T1TDA.png\", dev=0.20)"
   ]
  },
  {
   "cell_type": "markdown",
   "metadata": {},
   "source": [
    "## Plot T2"
   ]
  },
  {
   "cell_type": "code",
   "execution_count": null,
   "metadata": {},
   "outputs": [],
   "source": [
    "plotAll(functionals, dfT2, \"T2\", \"TDA\", \"T2TDA.png\",  dev=0.20)"
   ]
  },
  {
   "cell_type": "markdown",
   "metadata": {},
   "source": [
    "## Plot First condition"
   ]
  },
  {
   "cell_type": "code",
   "execution_count": null,
   "metadata": {},
   "outputs": [],
   "source": [
    "plotAll(functionals, dfFC, \"FC\", \"TDA\", \"FCTDA.png\",  dev=0.20)"
   ]
  },
  {
   "cell_type": "markdown",
   "metadata": {},
   "source": [
    "## Plot second condition"
   ]
  },
  {
   "cell_type": "code",
   "execution_count": null,
   "metadata": {},
   "outputs": [],
   "source": [
    "plotAll(functionals, dfSC, \"SC\", \"TDA\", \"SCTDA.png\",  dev=0.20)"
   ]
  },
  {
   "cell_type": "markdown",
   "metadata": {},
   "source": [
    "# MC excitation energies vs DFT without TDA"
   ]
  },
  {
   "cell_type": "markdown",
   "metadata": {},
   "source": [
    "## S1"
   ]
  },
  {
   "cell_type": "code",
   "execution_count": null,
   "metadata": {},
   "outputs": [],
   "source": [
    "computeCorrTable(functionals, dfS1, \"S1\", \"\", vsMC=True)"
   ]
  },
  {
   "cell_type": "markdown",
   "metadata": {},
   "source": [
    "## T1"
   ]
  },
  {
   "cell_type": "code",
   "execution_count": null,
   "metadata": {},
   "outputs": [],
   "source": [
    "computeCorrTable(functionals, dfT1, \"T1\", \"\", vsMC=True)"
   ]
  },
  {
   "cell_type": "markdown",
   "metadata": {},
   "source": [
    "## T2"
   ]
  },
  {
   "cell_type": "code",
   "execution_count": null,
   "metadata": {},
   "outputs": [],
   "source": [
    "computeCorrTable(functionals, dfT2, \"T2\", \"\", vsMC=True)"
   ]
  },
  {
   "cell_type": "markdown",
   "metadata": {},
   "source": [
    "## Plot S1 "
   ]
  },
  {
   "cell_type": "code",
   "execution_count": null,
   "metadata": {},
   "outputs": [],
   "source": [
    "plotAll(functionals, dfS1, \"S1\", \"\", \"S1MC.png\",vsMC=True, dev = 0.2)"
   ]
  },
  {
   "cell_type": "markdown",
   "metadata": {},
   "source": [
    "## Plot T1"
   ]
  },
  {
   "cell_type": "code",
   "execution_count": null,
   "metadata": {},
   "outputs": [],
   "source": [
    "plotAll(functionals, dfT1, \"T1\", \"\", \"T1MC.png\",vsMC=True, dev = 0.2)"
   ]
  },
  {
   "cell_type": "markdown",
   "metadata": {},
   "source": [
    "## Plot T2"
   ]
  },
  {
   "cell_type": "code",
   "execution_count": null,
   "metadata": {},
   "outputs": [],
   "source": [
    "plotAll(functionals, dfT2, \"T2\", \"\", \"T2MC.png\",vsMC=True, dev = 0.2)"
   ]
  },
  {
   "cell_type": "markdown",
   "metadata": {},
   "source": [
    "# MC excitation energies vs DFT with TDA"
   ]
  },
  {
   "cell_type": "markdown",
   "metadata": {},
   "source": [
    "## S1"
   ]
  },
  {
   "cell_type": "code",
   "execution_count": null,
   "metadata": {},
   "outputs": [],
   "source": [
    "computeCorrTable(functionals, dfS1, \"S1\", \"TDA\", vsMC=True)"
   ]
  },
  {
   "cell_type": "markdown",
   "metadata": {},
   "source": [
    "## T1"
   ]
  },
  {
   "cell_type": "code",
   "execution_count": null,
   "metadata": {},
   "outputs": [],
   "source": [
    "computeCorrTable(functionals, dfT1, \"T1\", \"TDA\", vsMC=True)"
   ]
  },
  {
   "cell_type": "markdown",
   "metadata": {},
   "source": [
    "## T2"
   ]
  },
  {
   "cell_type": "code",
   "execution_count": null,
   "metadata": {},
   "outputs": [],
   "source": [
    "computeCorrTable(functionals, dfT2, \"T2\", \"TDA\", vsMC=True)"
   ]
  },
  {
   "cell_type": "markdown",
   "metadata": {},
   "source": [
    "## Plot S1"
   ]
  },
  {
   "cell_type": "code",
   "execution_count": null,
   "metadata": {},
   "outputs": [],
   "source": [
    "plotAll(functionals, dfS1, \"S1\", \"TDA\", \"S1TDAMC.png\", vsMC=True, dev = 0.2)"
   ]
  },
  {
   "cell_type": "markdown",
   "metadata": {},
   "source": [
    "## Plot T1"
   ]
  },
  {
   "cell_type": "code",
   "execution_count": null,
   "metadata": {},
   "outputs": [],
   "source": [
    "plotAll(functionals, dfT1, \"T1\", \"TDA\", \"T1TDAMC.png\", vsMC=True, dev = 0.2)"
   ]
  },
  {
   "cell_type": "markdown",
   "metadata": {},
   "source": [
    "## Plot T2"
   ]
  },
  {
   "cell_type": "code",
   "execution_count": null,
   "metadata": {},
   "outputs": [],
   "source": [
    "plotAll(functionals, dfT2, \"T2\", \"TDA\", \"T2TDAMC.png\", vsMC=True, dev = 0.2)"
   ]
  },
  {
   "cell_type": "markdown",
   "metadata": {},
   "source": [
    "## Plot first condition"
   ]
  },
  {
   "cell_type": "markdown",
   "metadata": {},
   "source": [
    "### Without TDA"
   ]
  },
  {
   "cell_type": "code",
   "execution_count": null,
   "metadata": {},
   "outputs": [],
   "source": [
    "plotAll(functionals, dfFC, \"FC\", \"\", \"FCMC.png\", vsMC=True, dev = 0.2)"
   ]
  },
  {
   "cell_type": "markdown",
   "metadata": {},
   "source": [
    "### WIth TDA"
   ]
  },
  {
   "cell_type": "code",
   "execution_count": null,
   "metadata": {},
   "outputs": [],
   "source": [
    "plotAll(functionals, dfFC, \"FC\", \"TDA\", \"FCMCTDA.png\", vsMC=True, dev = 0.2)"
   ]
  },
  {
   "cell_type": "markdown",
   "metadata": {},
   "source": [
    "## Second condition"
   ]
  },
  {
   "cell_type": "markdown",
   "metadata": {},
   "source": [
    "### Without TDA"
   ]
  },
  {
   "cell_type": "code",
   "execution_count": null,
   "metadata": {},
   "outputs": [],
   "source": [
    "plotAll(functionals, dfSC, \"SC\", \"\", \"SCMC.png\", vsMC=True, dev = 0.2)"
   ]
  },
  {
   "cell_type": "markdown",
   "metadata": {},
   "source": [
    "### With TDA"
   ]
  },
  {
   "cell_type": "code",
   "execution_count": null,
   "metadata": {},
   "outputs": [],
   "source": [
    "plotAll(functionals, dfSC, \"SC\", \"TDA\", \"SCMCTDA.png\", vsMC=True, dev = 0.2)"
   ]
  },
  {
   "cell_type": "markdown",
   "metadata": {},
   "source": [
    "# ML Models"
   ]
  },
  {
   "cell_type": "markdown",
   "metadata": {},
   "source": [
    "## Model function definitions"
   ]
  },
  {
   "cell_type": "code",
   "execution_count": null,
   "metadata": {},
   "outputs": [],
   "source": [
    "def testFunctionalStateRidgeDRC(df, f, state, with_tda, dffc=None):\n",
    "    if with_tda:\n",
    "        c = \"{}({}, TDA)\".format(state, f)\n",
    "    else: \n",
    "        c = \"{}({})\".format(state, f)\n",
    "        \n",
    "        \n",
    "    cols = [\"DRC\", c]\n",
    "    target = state.strip() + \"(MC)\"\n",
    "    \n",
    "    if f == \"blyp\" or f == \"PBE\":\n",
    "            df = df.drop(list(df[df[\"Mol\"] == \"AB2B7\"].index))\n",
    "            df = df.drop(list(df[df[\"Mol\"] == \"AB1aB8a\"].index))\n",
    "            \n",
    "    X_df_tr     = df[cols]\n",
    "    y_tr        = df[target]\n",
    "    if (dffc is not None):\n",
    "        y_tr = dffc[\"FC(MC)\"]\n",
    "    \n",
    "    #print(X_df_tr, y_tr)\n",
    "    scaler = StandardScaler()\n",
    "    X_tr = scaler.fit_transform(X_df_tr)\n",
    "    \n",
    "    mod = Ridge(alpha=0.0)\n",
    "    scores = cross_val_score(mod, X_tr, y_tr, cv=5)\n",
    "    if (f == 'wB97XD'): print(scores)\n",
    "    return scores.mean(), scores.std()\n",
    "\n",
    "def testFunctionalStateRidgeNoDRC(df, f, state, with_tda, dffc=None):\n",
    "    if with_tda:\n",
    "        c = \"{}({}, TDA)\".format(state, f)\n",
    "    else: \n",
    "        c = \"{}({})\".format(state, f)\n",
    "    \n",
    "    if f == \"blyp\" or f == \"PBE\":\n",
    "            df = df.drop(list(df[df[\"Mol\"] == \"AB2B7\"].index))\n",
    "            df = df.drop(list(df[df[\"Mol\"] == \"AB1aB8a\"].index))\n",
    "    \n",
    "    cols = [c]\n",
    "    target = state.strip() + \"(MC)\"\n",
    "    if (dffc is not None):\n",
    "        print(\"kka\")\n",
    "        y_tr = dffc[\"FC(MC)\"]\n",
    "\n",
    "    X_df_tr     = df[cols]\n",
    "    y_tr        = df[target]\n",
    "\n",
    "    scaler = StandardScaler()\n",
    "    X_tr = scaler.fit_transform(X_df_tr)\n",
    "    \n",
    "    mod = Ridge(alpha=0.0)\n",
    "    scores = cross_val_score(mod, X_tr, y_tr, cv=5)\n",
    "    if (f == 'wB97XD'): print(scores)\n",
    "    return scores.mean(), scores.std()\n",
    "\n",
    "def dumpResultsToTable(state, withDRC, dffc=None):\n",
    "    if state == 'S1': \n",
    "        _df = copy.deepcopy(dfS1)\n",
    "    elif state == 'T1':\n",
    "        _df = copy.deepcopy(dfT1)\n",
    "    elif state == 'T2':\n",
    "        _df = copy.deepcopy(dfT2)\n",
    "    elif state == \"FC\":\n",
    "        _df = copy.deepcopy(dfFC)\n",
    "    else:\n",
    "        print(\"ERROR: unknown state!\")\n",
    "        return pd.DataFrame()\n",
    "    func, mean_notda, mean_tda, std_notda, std_tda = [],[],[],[],[]\n",
    "    for f in functionals:\n",
    "        func.append(func_to_name[f])\n",
    "        \n",
    "        if withDRC:\n",
    "            notda = testFunctionalStateRidgeDRC(_df, f, state, False, dffc)\n",
    "            tda = testFunctionalStateRidgeDRC(_df, f, state, True, dffc)\n",
    "        else:\n",
    "            notda = testFunctionalStateRidgeNoDRC(_df, f, state, False, dffc)\n",
    "            tda = testFunctionalStateRidgeNoDRC(_df, f, state, True, dffc)\n",
    "       \n",
    "        mean_notda.append(notda[0])\n",
    "        std_notda.append(notda[1])\n",
    "    \n",
    "        \n",
    "        mean_tda.append(tda[0])\n",
    "        std_tda.append(tda[1])\n",
    "    \n",
    "    res = pd.DataFrame()\n",
    "    res[\"Functional\"] = func\n",
    "    res[\"mean R^2\"] = mean_notda\n",
    "    res[\"std\"] = std_notda\n",
    "    res[\"mean R^2[TDA]\"] = mean_tda\n",
    "    res[\"std[TDA]\"] = std_tda\n",
    "    return res"
   ]
  },
  {
   "cell_type": "markdown",
   "metadata": {},
   "source": [
    "## Model Validation"
   ]
  },
  {
   "cell_type": "markdown",
   "metadata": {},
   "source": [
    "### S1 Model: S1(MC) = C1DRC + C2S1(Func) + C3"
   ]
  },
  {
   "cell_type": "code",
   "execution_count": null,
   "metadata": {
    "scrolled": false
   },
   "outputs": [],
   "source": [
    "dumpResultsToTable('S1', True)"
   ]
  },
  {
   "cell_type": "markdown",
   "metadata": {},
   "source": [
    "### S1 Model: S1(MC) = C1S1(Func)+C2"
   ]
  },
  {
   "cell_type": "code",
   "execution_count": null,
   "metadata": {},
   "outputs": [],
   "source": [
    "S1Model = dumpResultsToTable('S1', False)"
   ]
  },
  {
   "cell_type": "markdown",
   "metadata": {},
   "source": [
    "## T1 Model: T1(MC) = C1DRC + C2T1(Func) + C3"
   ]
  },
  {
   "cell_type": "code",
   "execution_count": null,
   "metadata": {},
   "outputs": [],
   "source": [
    "dumpResultsToTable('T1', True)"
   ]
  },
  {
   "cell_type": "markdown",
   "metadata": {},
   "source": [
    "## T1 Model: T1(MC) = C1T1(Func) + C2"
   ]
  },
  {
   "cell_type": "code",
   "execution_count": null,
   "metadata": {},
   "outputs": [],
   "source": [
    "T1Model = dumpResultsToTable('T1', False)"
   ]
  },
  {
   "cell_type": "markdown",
   "metadata": {},
   "source": [
    "## T2 Model: T1(MC) = C1DRC + C2T2(Func) + C3"
   ]
  },
  {
   "cell_type": "code",
   "execution_count": null,
   "metadata": {},
   "outputs": [],
   "source": [
    "dumpResultsToTable('T2', True)"
   ]
  },
  {
   "cell_type": "markdown",
   "metadata": {},
   "source": [
    "## T2 Model: T2(MC) = C1T2(Func) + C2"
   ]
  },
  {
   "cell_type": "code",
   "execution_count": null,
   "metadata": {},
   "outputs": [],
   "source": [
    "dumpResultsToTable('T2', False)"
   ]
  },
  {
   "cell_type": "markdown",
   "metadata": {},
   "source": [
    "## First condition "
   ]
  },
  {
   "cell_type": "code",
   "execution_count": null,
   "metadata": {},
   "outputs": [],
   "source": [
    "fcLinMod = dumpResultsToTable('T1', False, dffc=dfFC)"
   ]
  },
  {
   "cell_type": "markdown",
   "metadata": {},
   "source": [
    "## Model Testing"
   ]
  },
  {
   "cell_type": "markdown",
   "metadata": {},
   "source": [
    "## General function definitions for model testing"
   ]
  },
  {
   "cell_type": "code",
   "execution_count": null,
   "metadata": {},
   "outputs": [],
   "source": [
    "df=pd.read_csv(\"ResultsStatTestSet.csv\")\n",
    "cols = [\"DRC\", \"S1(wB97XD, TDA)\"]\n",
    "X_df_tr     = dfS1[cols]\n",
    "y_tr        = dfS1[\"S1(MC)\"]\n",
    "scaler = StandardScaler()\n",
    "X_tr = scaler.fit_transform(X_df_tr)\n",
    "mod = Ridge(alpha=0.0)\n",
    "X_tstmod = mod.fit(X_tr,y_tr) \n",
    "X_tst = scaler.transform(df[cols])\n",
    "S1_hat = X_tstmod.predict(X_tst)\n",
    "odf = pd.DataFrame()\n",
    "odf[\"Compound\"] = df[df.columns[0]]\n",
    "odf[\"S1, model\"] = S1_hat\n",
    "odf"
   ]
  },
  {
   "cell_type": "code",
   "execution_count": null,
   "metadata": {
    "scrolled": true
   },
   "outputs": [],
   "source": [
    "df=pd.read_csv(\"ResultsStatTestSet.csv\")\n",
    "cols = [\"DRC\", \"T1(wB97XD, TDA)\"]\n",
    "X_df_tr     = dfT1[cols]\n",
    "y_tr        = dfT1[\"T1(MC)\"]\n",
    "scaler = StandardScaler()\n",
    "X_tr = scaler.fit_transform(X_df_tr)\n",
    "mod = Ridge(alpha=0.0)\n",
    "X_tstmod = mod.fit(X_tr,y_tr)\n",
    "X_tst = scaler.transform(df[cols])\n",
    "S1_hat = X_tstmod.predict(X_tst)\n",
    "odf = pd.DataFrame()\n",
    "odf[\"Compound\"] = df[df.columns[0]]\n",
    "odf[\"T1, model\"] = S1_hat\n",
    "odf"
   ]
  },
  {
   "cell_type": "markdown",
   "metadata": {},
   "source": [
    "## Cross-validation scores plot"
   ]
  },
  {
   "cell_type": "code",
   "execution_count": null,
   "metadata": {
    "scrolled": false
   },
   "outputs": [],
   "source": [
    "fig, axs = plt.subplots(3, figsize=(20,28))\n",
    "fig = plt.figure()\n",
    "fig.tight_layout(pad=1.0)\n",
    "X = np.arange(S1Model.shape[0])\n",
    "#ax = fig.add_axes([0,0,1,2])\n",
    "c1 = 'green'\n",
    "c2 = 'orange'\n",
    "\n",
    "ax = axs[0]\n",
    "\n",
    "ax.tick_params(axis='both', labelsize=22)\n",
    "\n",
    "ax.bar(X - 0.25/2, S1Model[\"mean R^2\"], color = c1, width = 0.25, label = \"Without Tamm-Dankoff approximation\", edgecolor='black')\n",
    "ax.bar(X + 0.25/2, S1Model[\"mean R^2[TDA]\"], color = c2, width = 0.25, label = \"With Tamm-Dankoff approximation\", edgecolor='black')\n",
    "ax.errorbar(X-0.25/2, S1Model[\"mean R^2\"], yerr=S1Model[\"std\"], linewidth=3, color=\"black\", ls='none',\n",
    "            marker=\"o\", capsize=6)\n",
    "ax.errorbar(X+0.25/2, S1Model[\"mean R^2[TDA]\"], yerr=S1Model[\"std[TDA]\"], linewidth=3, color=\"black\", ls='none',\n",
    "            marker=\"o\", capsize=6)\n",
    "\n",
    "\n",
    "ax.set_xticks(X)\n",
    "ax.set_xticklabels([\"\"]*len(list(S1Model[\"Functional\"])))\n",
    "\n",
    "ax.set_ylabel(\"$R^{2}$(Averaged over 5-fold cross-validation)\", fontsize=24)\n",
    "ax.set_ylim(0.6, 1.03)\n",
    "l = ax.legend(fontsize=24, bbox_to_anchor=(1.0, 1.25), loc='upper right')\n",
    "ax.text(0.25,1.05,\"$\\hat{E}(S_1) = \\\\beta_1 E^{DFT}(S_1) + \\\\beta_2 $\", color = 'red', fontsize=26, fontweight='bold')\n",
    "\n",
    "ax = axs[1]\n",
    "\n",
    "ax.tick_params(axis='both', labelsize=22)\n",
    "\n",
    "ax.bar(X - 0.25/2, T1Model[\"mean R^2\"], color = c1, width = 0.25, label = \"Without Tamm-Dankoff approximation\", edgecolor='black')\n",
    "ax.bar(X + 0.25/2, T1Model[\"mean R^2[TDA]\"], color = c2, width = 0.25, label = \"With Tamm-Dankoff approximation\", edgecolor='black')\n",
    "ax.errorbar(X-0.25/2, T1Model[\"mean R^2\"], yerr=S1Model[\"std\"], linewidth=3, color=\"black\", ls='none',\n",
    "            marker=\"o\", capsize=6)\n",
    "ax.errorbar(X+0.25/2, T1Model[\"mean R^2[TDA]\"], yerr=S1Model[\"std[TDA]\"], linewidth=3, color=\"black\", ls='none',\n",
    "            marker=\"o\", capsize=6)\n",
    "\n",
    "\n",
    "ax.set_ylabel(\"$R^{2}$(Averaged over 5-fold cross-validation)\", fontsize=24)\n",
    "ax.set_ylim(0.6, 1.03)\n",
    "#l = ax.legend(fontsize=24, bbox_to_anchor=(1.0, 1.15), loc='upper right')\n",
    "ax.text(0.25,1.05,\"$\\hat{E}(T_1) = \\\\beta_1 E^{DFT}(T_1) + \\\\beta_2 $\",color='green', fontsize=26, fontweight='bold')\n",
    "\n",
    "ax.set_xticks(X)\n",
    "ax.set_xticklabels([\"\"]*len(list(FCModelT1[\"Functional\"])))\n",
    "\n",
    "ax = axs[2]\n",
    "\n",
    "ax.tick_params(axis='both', labelsize=22)\n",
    "\n",
    "ax.bar(X - 0.25/2, FCModelT1[\"mean R^2\"], color = c1, width = 0.25, label = \"Without Tamm-Dankoff approximation\", edgecolor='black')\n",
    "ax.bar(X + 0.25/2, FCModelT1[\"mean R^2[TDA]\"], color = c2, width = 0.25, label = \"With Tamm-Dankoff approximation\", edgecolor='black')\n",
    "ax.errorbar(X-0.25/2, FCModelT1[\"mean R^2\"], yerr=FCModelT1[\"std\"], linewidth=3, color=\"black\", ls='none',\n",
    "            marker=\"o\", capsize=6)\n",
    "ax.errorbar(X+0.25/2, FCModelT1[\"mean R^2[TDA]\"], yerr=FCModelT1[\"std[TDA]\"], linewidth=3, color=\"black\", ls='none',\n",
    "            marker=\"o\", capsize=6)\n",
    "\n",
    "\n",
    "ax.set_ylabel(\"$R^{2}$(Averaged over 5-fold cross-validation)\", fontsize=24)\n",
    "ax.set_ylim(0.6, 1.03)\n",
    "#l = ax.legend(fontsize=24, bbox_to_anchor=(1.0, 1.25), loc='upper right')\n",
    "\n",
    "\n",
    "ax.text(0.25,1.05,\"$\\hat{\\Delta E}_{ST} = \\\\beta_1 E^{DFT}(T_1) + \\\\beta_2 $\",color='blue', fontsize=26, fontweight='bold')\n",
    "\n",
    "ax.set_xticks(X)\n",
    "ax.set_xticklabels(list(T1Model[\"Functional\"]), rotation=45, fontweight='bold')\n",
    "\n",
    "plt.show()"
   ]
  },
  {
   "cell_type": "code",
   "execution_count": null,
   "metadata": {},
   "outputs": [],
   "source": [
    "fig, axs = plt.subplots(2, figsize=(20,18))\n",
    "fig = plt.figure()\n",
    "fig.tight_layout()#pad=1.0)\n",
    "X = np.arange(FCModelS1.shape[0])\n",
    "#ax = fig.add_axes([0,0,1,2])\n",
    "c1 = 'green'\n",
    "c2 = 'orange'\n",
    "\n",
    "ax = axs[0]\n",
    "\n",
    "ax.tick_params(axis='both', labelsize=22)\n",
    "\n",
    "ax.bar(X - 0.25/2, FCModelT1[\"mean R^2\"], color = c1, width = 0.25, label = \"Without Tamm-Dankoff approximation\", edgecolor='black')\n",
    "ax.bar(X + 0.25/2, FCModelT1[\"mean R^2[TDA]\"], color = c2, width = 0.25, label = \"With Tamm-Dankoff approximation\", edgecolor='black')\n",
    "ax.errorbar(X-0.25/2, FCModelT1[\"mean R^2\"], yerr=FCModelT1[\"std\"], linewidth=3, color=\"black\", ls='none',\n",
    "            marker=\"o\", capsize=6)\n",
    "ax.errorbar(X+0.25/2, FCModelT1[\"mean R^2[TDA]\"], yerr=FCModelT1[\"std[TDA]\"], linewidth=3, color=\"black\", ls='none',\n",
    "            marker=\"o\", capsize=6)\n",
    "\n",
    "\n",
    "ax.set_xticks(X)\n",
    "ax.set_xticklabels([\"\"]*len(list(FCModelT1[\"Functional\"])))\n",
    "\n",
    "ax.set_ylabel(\"$R^{2}$(Averaged over 5-fold cross-validation)\", fontsize=24)\n",
    "ax.set_ylim(0.6, 1.03)\n",
    "l = ax.legend(fontsize=24, bbox_to_anchor=(1.0, 1.25), loc='upper right')\n",
    "\n",
    "\n",
    "\n",
    "ax = axs[1]\n",
    "\n",
    "ax.tick_params(axis='both', labelsize=22)\n",
    "\n",
    "ax.bar(X - 0.25/2, FCModelT1[\"mean R^2\"], color = c1, width = 0.25, label = \"Without Tamm-Dankoff approximation\", edgecolor='black')\n",
    "ax.bar(X + 0.25/2, FCModelT1[\"mean R^2[TDA]\"], color = c2, width = 0.25, label = \"With Tamm-Dankoff approximation\", edgecolor='black')\n",
    "ax.errorbar(X-0.25/2, FCModelT1[\"mean R^2\"], yerr=FCModelT1[\"std\"], linewidth=3, color=\"black\", ls='none',\n",
    "            marker=\"o\", capsize=6)\n",
    "ax.errorbar(X+0.25/2, FCModelT1[\"mean R^2[TDA]\"], yerr=FCModelT1[\"std[TDA]\"], linewidth=3, color=\"black\", ls='none',\n",
    "            marker=\"o\", capsize=6)\n",
    "\n",
    "\n",
    "ax.set_xticks(X)\n",
    "ax.set_xticklabels(list(FCModelT1[\"Functional\"]), rotation=45, fontweight='bold')\n",
    "\n",
    "ax.set_ylabel(\"$R^{2}$(Averaged over 5-fold cross-validation)\", fontsize=24)\n",
    "ax.set_ylim(0.6, 1.03)\n",
    "#l = ax.legend(fontsize=24, bbox_to_anchor=(1.0, 1.15), loc='upper right')\n",
    "\n",
    "plt.show()"
   ]
  },
  {
   "cell_type": "code",
   "execution_count": null,
   "metadata": {},
   "outputs": [],
   "source": [
    "fig, axs = plt.subplots(1, figsize=(20,9))\n",
    "fig = plt.figure()\n",
    "fig.tight_layout(pad=1.0)\n",
    "X = np.arange(S1Model.shape[0])\n",
    "#ax = fig.add_axes([0,0,1,2])\n",
    "c1 = 'green'\n",
    "c2 = 'orange'\n",
    "\n",
    "ax = axs#[2]\n",
    "\n",
    "ax.tick_params(axis='both', labelsize=22)\n",
    "\n",
    "ax.bar(X - 0.25/2, FCModelT1[\"mean R^2\"], color = c1, width = 0.25, label = \"Without Tamm-Dankoff approximation\", edgecolor='black')\n",
    "ax.bar(X + 0.25/2, FCModelT1[\"mean R^2[TDA]\"], color = c2, width = 0.25, label = \"With Tamm-Dankoff approximation\", edgecolor='black')\n",
    "ax.errorbar(X-0.25/2, FCModelT1[\"mean R^2\"], yerr=FCModelT1[\"std\"], linewidth=3, color=\"black\", ls='none',\n",
    "            marker=\"o\", capsize=6)\n",
    "ax.errorbar(X+0.25/2, FCModelT1[\"mean R^2[TDA]\"], yerr=FCModelT1[\"std[TDA]\"], linewidth=3, color=\"black\", ls='none',\n",
    "            marker=\"o\", capsize=6)\n",
    "\n",
    "\n",
    "ax.set_ylabel(\"$R^{2}$(Averaged over 5-fold cross-validation)\", fontsize=24)\n",
    "ax.set_ylim(0.6, 1.03)\n",
    "#l = ax.legend(fontsize=24, bbox_to_anchor=(1.0, 1.25), loc='upper right')\n",
    "\n",
    "\n",
    "ax.text(0.25,1.05,\"$\\hat{\\Delta E}_{ST} = \\\\beta_1 E^{DFT}(T_1) + \\\\beta_2 $\",color='blue', fontsize=26, fontweight='bold')\n",
    "\n",
    "ax.set_xticks(X)\n",
    "ax.set_xticklabels(list(T1Model[\"Functional\"]), rotation=45, fontweight='bold')\n",
    "\n",
    "plt.show()"
   ]
  },
  {
   "cell_type": "code",
   "execution_count": null,
   "metadata": {},
   "outputs": [],
   "source": [
    "fig = plt.figure(figsize=(10,10))\n",
    "plt.scatter(dfFC[\"DRC\"], dfFC[\"FC(MC)\"])\n",
    "plt.tick_params(axis='both', labelsize=22)\n",
    "plt.xlabel(\"DRC\", fontsize=24)\n",
    "plt.ylabel(\"$\\Delta E_{ST}(CASPT2), eV$\", fontsize=24)\n",
    "plt.show()"
   ]
  },
  {
   "cell_type": "code",
   "execution_count": null,
   "metadata": {},
   "outputs": [],
   "source": [
    "fig = plt.figure(figsize=(10,10))\n",
    "plt.scatter(dfT1[\"T1(wB97XD, TDA)\"], dfFC[\"FC(MC)\"])\n",
    "plt.tick_params(axis='both', labelsize=22)\n",
    "plt.xlabel(\"$E_{T_1}(wB97XD,TDA), eV$\", fontsize=24)\n",
    "plt.ylabel(\"$\\Delta E_{ST}(CASPT2), eV$\", fontsize=24)\n",
    "plt.show()"
   ]
  },
  {
   "cell_type": "code",
   "execution_count": null,
   "metadata": {},
   "outputs": [],
   "source": [
    "fig = plt.figure(figsize=(20,10))\n",
    "plt.scatter(dfT1[\"T1(blyp)\"]+1, dfFC[\"FC(MC)\"])\n",
    "plt.tick_params(axis='both', labelsize=22)\n",
    "plt.xlabel(\"$E_{T_1}(wB97XD,TDA)$\", fontsize=24)\n",
    "plt.ylabel(\"$\\Delta E_{ST}(CASPT2), eV$\", fontsize=24)\n",
    "plt.show()"
   ]
  },
  {
   "cell_type": "code",
   "execution_count": null,
   "metadata": {},
   "outputs": [],
   "source": [
    "fig = plt.figure(figsize=(20,10))\n",
    "plt.scatter(dfS1[\"S1(wB97XD, TDA)\"], dfFC[\"FC(MC)\"])\n",
    "plt.tick_params(axis='both', labelsize=22)\n",
    "plt.xlabel(\"$E_{T_1}(wB97XD,TDA)$\", fontsize=24)\n",
    "plt.ylabel(\"$\\Delta E_{ST}(CASPT2), eV$\", fontsize=24)\n",
    "plt.show()"
   ]
  },
  {
   "cell_type": "markdown",
   "metadata": {},
   "source": [
    "## Exponential models"
   ]
  },
  {
   "cell_type": "code",
   "execution_count": null,
   "metadata": {},
   "outputs": [],
   "source": [
    "from scipy.interpolate import make_interp_spline\n",
    "from scipy.optimize import least_squares\n",
    "from sklearn.base import BaseEstimator\n",
    "\n",
    "def fun(c,x,y):\n",
    "    return (c[0]*np.exp(c[1]*x) + c[2]) - y\n",
    "\n",
    "class ExpMod(BaseEstimator):\n",
    "    \n",
    "    def __init__(self,*, param):\n",
    "        self.param = param\n",
    "    \n",
    "    def predict(self, x):\n",
    "        return self.param[0]*np.exp(self.param[1]*x) + self.param[2]\n",
    "    \n",
    "    def fit(self, x, y, verbose=False):\n",
    "        res_lsq = least_squares(fun, self.param, args=(x, y))\n",
    "        self.param = res_lsq[\"x\"]\n",
    "        self.is_fitted_ = True\n",
    "        if verbose:\n",
    "            print(res_lsq)\n",
    "            print(self.param)\n",
    "        return self\n",
    "        "
   ]
  },
  {
   "cell_type": "markdown",
   "metadata": {},
   "source": [
    "## Cross Validation"
   ]
  },
  {
   "cell_type": "code",
   "execution_count": null,
   "metadata": {},
   "outputs": [],
   "source": [
    "m = ExpMod(param=np.array([1,1,1]))\n",
    "X_tr = dfT1[\"DRC\"].to_numpy()\n",
    "Y_tr = dfT1[\"T1(MC)\"].to_numpy()\n",
    "scores = cross_val_score(m, X_tr, Y_tr, cv=5, scoring=\"r2\")\n",
    "print(\"scores={}, mean={:.3f}, std={:.3f}\".format(scores, scores.mean(), scores.std()))"
   ]
  },
  {
   "cell_type": "code",
   "execution_count": null,
   "metadata": {},
   "outputs": [],
   "source": [
    "m = ExpMod(param=np.array([1,1,1]))\n",
    "X_tr = dfFC[\"DRC\"].to_numpy()\n",
    "Y_tr = dfFC[\"FC(MC)\"].to_numpy()\n",
    "scores = cross_val_score(m, X_tr, Y_tr, cv=5, scoring=\"r2\")\n",
    "print(\"scores={}, mean={:.3f}, std={:.3f}\".format(scores, scores.mean(), scores.std()))"
   ]
  },
  {
   "cell_type": "code",
   "execution_count": null,
   "metadata": {
    "scrolled": true
   },
   "outputs": [],
   "source": [
    "m = ExpMod(param=np.array([1,1,1]))\n",
    "m.fit(dfT1[\"DRC\"].to_numpy(), dfT1[\"T1(MC)\"].to_numpy(), True)\n",
    "plt.scatter(dfT1[\"DRC\"].to_numpy(), dfT1[\"T1(MC)\"].to_numpy())\n",
    "X_ = np.linspace(dfT1[\"DRC\"].to_numpy().min(), dfT1[\"DRC\"].to_numpy().max(), 500)\n",
    "Y_ = m.predict(X_)\n",
    "print(\"R2 train = {:.3f}\".format(r2_score(dfT1[\"T1(MC)\"],m.predict(dfT1[\"DRC\"].to_numpy()))))\n",
    "plt.xlabel(\"DRC\")\n",
    "plt.ylabel(\"E($T_1$)\")\n",
    "plt.plot(X_, Y_, c='r')"
   ]
  },
  {
   "cell_type": "code",
   "execution_count": null,
   "metadata": {},
   "outputs": [],
   "source": [
    "from sklearn.metrics import r2_score\n",
    "m = ExpMod(param=np.array([1,1,1]))\n",
    "m.fit(dfT1[\"DRC\"].to_numpy(), dfFC[\"FC(MC)\"].to_numpy())\n",
    "plt.scatter(dfFC[\"DRC\"].to_numpy(), dfFC[\"FC(MC)\"].to_numpy())\n",
    "X_ = np.linspace(dfFC[\"DRC\"].to_numpy().min(), dfFC[\"DRC\"].to_numpy().max(), 500)\n",
    "Y_ = m.predict(X_)\n",
    "plt.plot(X_, Y_, c='r')\n",
    "plt.xlabel(\"DRC\")\n",
    "plt.ylabel(\"$\\Delta E_{ST}$\")\n",
    "print(\"R2 train = {:.3f}\".format(r2_score(dfFC[\"FC(MC)\"],m.predict(dfFC[\"DRC\"].to_numpy()))))\n",
    "print(\"Coefs: {}\".format(m.param))"
   ]
  },
  {
   "cell_type": "code",
   "execution_count": null,
   "metadata": {},
   "outputs": [],
   "source": []
  },
  {
   "cell_type": "code",
   "execution_count": null,
   "metadata": {},
   "outputs": [],
   "source": []
  }
 ],
 "metadata": {
  "kernelspec": {
   "display_name": "Python 3",
   "language": "python",
   "name": "python3"
  },
  "language_info": {
   "codemirror_mode": {
    "name": "ipython",
    "version": 3
   },
   "file_extension": ".py",
   "mimetype": "text/x-python",
   "name": "python",
   "nbconvert_exporter": "python",
   "pygments_lexer": "ipython3",
   "version": "3.7.4"
  }
 },
 "nbformat": 4,
 "nbformat_minor": 2
}
